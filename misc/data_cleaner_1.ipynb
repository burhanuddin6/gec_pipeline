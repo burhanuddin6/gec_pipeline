{
 "cells": [
  {
   "cell_type": "code",
   "execution_count": 1,
   "metadata": {},
   "outputs": [
    {
     "name": "stderr",
     "output_type": "stream",
     "text": [
      "c:\\Users\\AhmedAli\\anaconda3\\envs\\UGEC\\lib\\site-packages\\tensorflow_addons\\utils\\tfa_eol_msg.py:23: UserWarning: \n",
      "\n",
      "TensorFlow Addons (TFA) has ended development and introduction of new features.\n",
      "TFA has entered a minimal maintenance and release mode until a planned end of life in May 2024.\n",
      "Please modify downstream libraries to take dependencies from other repositories in our TensorFlow community (e.g. Keras, Keras-CV, and Keras-NLP). \n",
      "\n",
      "For more information see: https://github.com/tensorflow/addons/issues/2807 \n",
      "\n",
      "  warnings.warn(\n",
      "c:\\Users\\AhmedAli\\anaconda3\\envs\\UGEC\\lib\\site-packages\\tensorflow_addons\\utils\\ensure_tf_install.py:53: UserWarning: Tensorflow Addons supports using Python ops for all Tensorflow versions above or equal to 2.11.0 and strictly below 2.14.0 (nightly versions are not supported). \n",
      " The versions of TensorFlow you are currently using is 2.10.1 and is not supported. \n",
      "Some things might work, some things might not.\n",
      "If you were to encounter a bug, do not file an issue.\n",
      "If you want to make sure you're using a tested and supported configuration, either change the TensorFlow version or the TensorFlow Addons's version. \n",
      "You can find the compatibility matrix in TensorFlow Addon's readme:\n",
      "https://github.com/tensorflow/addons\n",
      "  warnings.warn(\n"
     ]
    }
   ],
   "source": [
    "import os\n",
    "import numpy as np\n",
    "import urduhack\n",
    "from collections import Counter"
   ]
  },
  {
   "cell_type": "code",
   "execution_count": 2,
   "metadata": {},
   "outputs": [],
   "source": [
    "data = open(\"urmono.txt\", \"r\").readlines()\n",
    "data = [x.strip() for x in data[:500_000]]\n",
    "data = np.array(data)"
   ]
  },
  {
   "cell_type": "code",
   "execution_count": 3,
   "metadata": {},
   "outputs": [],
   "source": [
    "def replace_digits(text):\n",
    "    new_text = \"\"\n",
    "    for char in text:\n",
    "        if char in \"0123456789\":\n",
    "            new_text += chr(ord(char) - ord('0') + ord('۰'))\n",
    "        else:\n",
    "            new_text += char\n",
    "    return new_text\n",
    "\n",
    "normalizer = np.vectorize(urduhack.normalization.normalize)\n",
    "digit_normalizer = np.vectorize(replace_digits)\n",
    "data = normalizer(data)\n",
    "data = digit_normalizer(data)"
   ]
  },
  {
   "cell_type": "code",
   "execution_count": 4,
   "metadata": {},
   "outputs": [],
   "source": [
    "letters = [char for line in data for char in line]\n",
    "letters = Counter(letters)\n",
    "letters = [(ord(k), k, v) for k, v in letters.items()]\n",
    "letters.sort(reverse=True)\n",
    "allowed = set()\n",
    "with open(\"allowed.txt\", \"w\") as f:\n",
    "    f.write(\"[\")\n",
    "    for k, c, v in letters:\n",
    "        if v > 100 and k not in list(range(33, 123)):\n",
    "            allowed.add(c)\n",
    "            f.write(f\"{k}, \")\n",
    "    f.write(\"]\\n\")"
   ]
  },
  {
   "cell_type": "code",
   "execution_count": 9,
   "metadata": {},
   "outputs": [
    {
     "data": {
      "text/plain": [
       "140574"
      ]
     },
     "execution_count": 9,
     "metadata": {},
     "output_type": "execute_result"
    }
   ],
   "source": [
    "clean_text = lambda text: \"\".join([c for c in text if c in allowed]).strip()\n",
    "data = np.array([clean_text(x) for x in data if len(clean_text(x)) > 50 and len(clean_text(x)) < 100])\n",
    "data = np.unique(data)\n",
    "np.random.shuffle(data)\n",
    "len(data)"
   ]
  },
  {
   "cell_type": "code",
   "execution_count": 10,
   "metadata": {},
   "outputs": [],
   "source": [
    "os.makedirs(\"cleaned_correct_corpus\", exist_ok=True)\n",
    "for i in range(0, len(data), 50_000):\n",
    "    with open(f\"cleaned_correct_corpus/data_{i//50_000:02d}.txt\", \"w\") as f:\n",
    "        f.write(\"\\n\".join(data[i:i+50_000]))"
   ]
  },
  {
   "cell_type": "code",
   "execution_count": 11,
   "metadata": {},
   "outputs": [],
   "source": [
    "!winrar a -r cleaned_correct_corpus.rar cleaned_correct_corpus"
   ]
  }
 ],
 "metadata": {
  "kernelspec": {
   "display_name": "UGEC",
   "language": "python",
   "name": "python3"
  },
  "language_info": {
   "codemirror_mode": {
    "name": "ipython",
    "version": 3
   },
   "file_extension": ".py",
   "mimetype": "text/x-python",
   "name": "python",
   "nbconvert_exporter": "python",
   "pygments_lexer": "ipython3",
   "version": "3.8.20"
  }
 },
 "nbformat": 4,
 "nbformat_minor": 2
}
